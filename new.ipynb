import cv2
import easyocr
import matplotlib.pyplot as plt
import os

image_path = r"C:\Users\Priyanshu\OneDrive\Desktop\14inch-3mm-vehicle-number-plate.jpg"  # Update this with the path to your image file

if not image_path:
    raise ValueError("Please provide the path to the image file.")

if not os.path.exists(image_path):
    raise FileNotFoundError(f"Image file not found at: {image_path}")

image = cv2.imread(image_path)

if image is None:
    raise ValueError(f"Could not load image from {image_path}. Check the file path and ensure the image file is not corrupted.")


gray_image = cv2.cvtColor(image, cv2.COLOR_BGR2GRAY)


plt.figure(figsize=(10, 6))
plt.subplot(1, 2, 1)
plt.imshow(cv2.cvtColor(image, cv2.COLOR_BGR2RGB))
plt.title('Original Image')

plt.subplot(1, 2, 2)
plt.imshow(gray_image, cmap='gray')
plt.title('Grayscale Image')
plt.show()


reader = easyocr.Reader(['en'])


result = reader.readtext(gray_image)


print("Detected text:", result)


for detection in result:
    top_left = tuple(map(int, detection[0][0]))
    bottom_right = tuple(map(int, detection[0][2]))
    text = detection[1]
    
  
    cv2.rectangle(image, top_left, bottom_right, (0, 255, 0), 2)
    
   
    cv2.putText(image, text, (top_left[0], top_left[1] - 10), cv2.FONT_HERSHEY_SIMPLEX, 0.9, (0, 255, 0), 2)


plt.imshow(cv2.cvtColor(image, cv2.COLOR_BGR2RGB))
plt.title('Number Plate Detection')
plt.show()
